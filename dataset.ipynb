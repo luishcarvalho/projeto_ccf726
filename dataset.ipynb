{
 "cells": [
  {
   "cell_type": "markdown",
   "metadata": {},
   "source": [
    "# Imports"
   ]
  },
  {
   "cell_type": "code",
   "execution_count": 1,
   "metadata": {},
   "outputs": [
    {
     "name": "stderr",
     "output_type": "stream",
     "text": [
      "c:\\Python\\Lib\\site-packages\\tqdm\\auto.py:21: TqdmWarning: IProgress not found. Please update jupyter and ipywidgets. See https://ipywidgets.readthedocs.io/en/stable/user_install.html\n",
      "  from .autonotebook import tqdm as notebook_tqdm\n"
     ]
    }
   ],
   "source": [
    "\"\"\"Dataset of Slither audited Solidity Smart Contracts.\"\"\"\n",
    "\n",
    "import json\n",
    "\n",
    "import datasets\n",
    "import pandas as pd"
   ]
  },
  {
   "cell_type": "code",
   "execution_count": 2,
   "metadata": {},
   "outputs": [],
   "source": [
    "import numpy as np\n",
    "import matplotlib.pyplot as plt"
   ]
  },
  {
   "cell_type": "markdown",
   "metadata": {},
   "source": [
    "# Download do Dataset"
   ]
  },
  {
   "cell_type": "markdown",
   "metadata": {},
   "source": [
    "Este conjunto de dados contém código-fonte e bytecode implantado para Solidity Smart Contracts que foram verificados no Etherscan.io, juntamente com uma classificação de suas vulnerabilidades de acordo com a estrutura de análise estática Slither.\n",
    "\n",
    "Cada instância de dados contém os seguintes recursos: endereço, código fonte e bytecode. O rótulo vem em duas configurações, uma versão limpa em texto simples da saída fornecida pela ferramenta Slither ou uma versão com vários rótulos, que consiste em uma lista simples de números inteiros, cada um representando uma classe de vulnerabilidade específica."
   ]
  },
  {
   "cell_type": "markdown",
   "metadata": {},
   "source": [
    "Abaixo estão algumas variáveis e o código fonte disponibilizado pela autora do dataset para realizar o download do dataset de acordo com as especificações escolhidas."
   ]
  },
  {
   "cell_type": "code",
   "execution_count": 3,
   "metadata": {},
   "outputs": [],
   "source": [
    "_LABELS = {\n",
    "    'all': [\n",
    "        'uninitialized-state','constant-function-asm', 'locked-ether',\n",
    "        'incorrect-shift', 'divide-before-multiply', 'unused-return',\n",
    "        'write-after-write', 'reentrancy-no-eth', 'unchecked-lowlevel',\n",
    "        'incorrect-equality', 'weak-prng', 'arbitrary-send',\n",
    "        'uninitialized-local', 'reentrancy-eth', 'shadowing-abstract',\n",
    "        'controlled-delegatecall', 'unchecked-transfer', 'erc20-interface',\n",
    "        'controlled-array-length', 'tautology', 'shadowing-state',\n",
    "        'tx-origin', 'unprotected-upgrade', 'suicidal',\n",
    "        'boolean-cst', 'unchecked-send', 'msg-value-loop',\n",
    "        'erc721-interface', 'constant-function-state', 'delegatecall-loop',\n",
    "        'mapping-deletion', 'reused-constructor', 'uninitialized-storage',\n",
    "        'public-mappings-nested', 'array-by-reference','backdoor',\n",
    "        'rtlo', 'name-reused','safe'],\n",
    "    'big': ['access-control', 'arithmetic', 'other', 'reentrancy', 'safe', 'unchecked-calls'],\n",
    "    'small': ['access-control', 'arithmetic', 'other', 'reentrancy', 'safe', 'unchecked-calls', 'locked-ether', 'bad-randomness', 'double-spending']\n",
    "}\n",
    "\n",
    "\n",
    "_CITATION = \"\"\"\\\n",
    "@misc{rossini2022slitherauditedcontracts,\n",
    "    title = {Slither Audited Smart Contracts Dataset},\n",
    "    author={Martina Rossini},\n",
    "    year={2022}\n",
    "}\n",
    "\"\"\"\n",
    "\n",
    "\n",
    "_DESCRIPTION = \"\"\"\\\n",
    "This dataset contains source code and deployed bytecode for Solidity Smart Contracts \\\n",
    "that have been verified on Etherscan.io, along with a classification of their vulnerabilities \\\n",
    "according to the Slither static analysis framework.\n",
    "\"\"\"\n",
    "\n",
    "_HOMEPAGE = \"https://github.com/mwritescode/slither-audited-smart-contracts\"\n",
    "\n",
    "_LICENSE = \"MIT\"\n",
    "\n",
    "\n",
    "_URLS = {\n",
    "    \"raw\": [f\"data/raw/contracts{i}.parquet\" for i in range(9)],\n",
    "    \"label_mappings\": \"data/label_mappings.json\",\n",
    "    \"big-splits\": \"data/big-splits.csv\",\n",
    "    \"small-splits\": \"data/small-splits.csv\"\n",
    "}"
   ]
  },
  {
   "cell_type": "markdown",
   "metadata": {},
   "source": [
    "Código para baixar e salvar o dataset"
   ]
  },
  {
   "cell_type": "code",
   "execution_count": 5,
   "metadata": {},
   "outputs": [],
   "source": [
    "class SlitherAuditedSmartContracts(datasets.GeneratorBasedBuilder):\n",
    "    \"\"\"Slither Audited Smart Contracts dataset, including source code and deployed bytecode\"\"\"\n",
    "\n",
    "    VERSION = datasets.Version(\"1.1.0\")\n",
    "\n",
    "    # You will be able to load one or the other configurations in the following list with\n",
    "    # data = datasets.load_dataset('slither-audited-smart-contracts', 'all-plain-text')\n",
    "    BUILDER_CONFIGS = [\n",
    "        datasets.BuilderConfig(name=\"all-plain-text\", version=VERSION, description=\"Complete dataset with plain-text slither results\"),\n",
    "        datasets.BuilderConfig(name=\"all-multilabel\", version=VERSION, description=\"Complete dataset with slither results as sequence of labels\"),\n",
    "        datasets.BuilderConfig(name=\"big-plain-text\", version=VERSION, description=\"Dataset containing only labels having numerous examples with plain-text slither results\"),\n",
    "        datasets.BuilderConfig(name=\"big-multilabel\", version=VERSION, description=\"Dataset containing only labels having numerous examples with slither results as a sequence of labels\"),\n",
    "        datasets.BuilderConfig(name=\"small-plain-text\", version=VERSION, description=\"Dataset containing only labels having few examples with plain-text slither results\"),\n",
    "        datasets.BuilderConfig(name=\"small-multilabel\", version=VERSION, description=\"Dataset containing only labels having few examples with slither results as a sequence of labels\")\n",
    "    ]\n",
    "\n",
    "    def _info(self):\n",
    "        if \"plain-text\" in self.config.name: \n",
    "            features = datasets.Features(\n",
    "                {\n",
    "                    \"address\": datasets.Value(\"string\"),\n",
    "                    \"source_code\": datasets.Value(\"string\"),\n",
    "                    \"bytecode\": datasets.Value(\"string\"),\n",
    "                    \"slither\": datasets.Value(\"string\"),\n",
    "                }\n",
    "            )\n",
    "        else: \n",
    "            features = datasets.Features(\n",
    "                {\n",
    "                    \"address\": datasets.Value(\"string\"),\n",
    "                    \"source_code\": datasets.Value(\"string\"),\n",
    "                    \"bytecode\": datasets.Value(\"string\"),\n",
    "                    \"slither\": datasets.Sequence(\n",
    "                        datasets.features.ClassLabel(\n",
    "                            names=_LABELS[self.config.name.split('-')[0]]\n",
    "                        )\n",
    "                    )\n",
    "                    \n",
    "                }\n",
    "            )\n",
    "        return datasets.DatasetInfo(\n",
    "            description=_DESCRIPTION,\n",
    "            features=features, \n",
    "            homepage=_HOMEPAGE,\n",
    "            license=_LICENSE,\n",
    "            citation=_CITATION,\n",
    "        )\n",
    "\n",
    "    def _split_generators(self, dl_manager):\n",
    "        data_dir = dl_manager.download_and_extract(_URLS)\n",
    "\n",
    "        generators = [\n",
    "            datasets.SplitGenerator(\n",
    "                name=datasets.Split.TRAIN,\n",
    "                gen_kwargs={\n",
    "                    \"filepath\": data_dir,\n",
    "                    \"split\": \"train\"\n",
    "                },\n",
    "            )]\n",
    "        if self.config.name.split('-')[0] != 'all':\n",
    "            generators += [\n",
    "                datasets.SplitGenerator(\n",
    "                name=datasets.Split.TEST,\n",
    "                gen_kwargs={\n",
    "                    \"filepath\": data_dir,\n",
    "                    \"split\": \"test\"\n",
    "                },\n",
    "            ),\n",
    "            datasets.SplitGenerator(\n",
    "                name=datasets.Split.VALIDATION,\n",
    "                gen_kwargs={\n",
    "                    \"filepath\": data_dir,\n",
    "                    \"split\": \"val\"\n",
    "                },\n",
    "            )]\n",
    "        return generators\n",
    "\n",
    "    def __elaborate_results(self, slither_res, mappings):\n",
    "        if not slither_res[\"results\"]:\n",
    "            contract_class = [\"safe\"]\n",
    "        else:\n",
    "            contract_class = [elem[\"check\"] for elem in slither_res[\"results\"][\"detectors\"]]\n",
    "            if self.config.name.split('-')[0] != 'all':\n",
    "                with open(mappings, 'r') as mappings_file:\n",
    "                    class_mappings = json.load(mappings_file)\n",
    "                contract_class = list(set([class_mappings[cls] for cls in contract_class]) - {'ignore'})\n",
    "                if len(contract_class) == 0:\n",
    "                    contract_class = ['safe']\n",
    "        return contract_class\n",
    "\n",
    "\n",
    "    def _generate_examples(self, filepath, split):\n",
    "        prefix = self.config.name.split('-')[0]\n",
    "        split_file = filepath[f\"{prefix}-splits\"] if prefix != 'all' else None\n",
    "\n",
    "        for chunk in filepath['raw']:\n",
    "            data = pd.read_parquet(chunk)\n",
    "            if split_file:\n",
    "                split_addrs = pd.read_csv(split_file).query('split == @split')['contracts']\n",
    "                data = data[data['contracts'].isin(split_addrs)]\n",
    "\n",
    "            for idx, row in data.iterrows():\n",
    "                if 'plain-text' in self.config.name:\n",
    "                    yield idx, {\n",
    "                        \"address\": '0x' + row['contracts'],\n",
    "                        \"source_code\": row['source_code'],\n",
    "                        \"bytecode\": row['bytecode'],\n",
    "                        \"slither\": row['results'],\n",
    "                    }\n",
    "                else:\n",
    "                    slither = json.loads(row['results'])\n",
    "                    contract_classes = self.__elaborate_results(slither, filepath['label_mappings'])\n",
    "                    yield idx, {\n",
    "                        \"address\": '0x' + row['contracts'],\n",
    "                        \"source_code\": row['source_code'],\n",
    "                        \"bytecode\": row['bytecode'],\n",
    "                        \"slither\": contract_classes,\n",
    "                    }"
   ]
  },
  {
   "cell_type": "markdown",
   "metadata": {},
   "source": [
    "O código abaixo carrega o conjunto de dados com configuração \"all-multilable\", ou seja, todo o conjunto de dados porém a coluna de saída que contém a vulnerabilidade está descrita como numeral. Os dados são salvos na variável \"train_examples\" e em seguida são convertidos em um dataframe."
   ]
  },
  {
   "cell_type": "code",
   "execution_count": 6,
   "metadata": {},
   "outputs": [
    {
     "name": "stderr",
     "output_type": "stream",
     "text": [
      "c:\\Python\\Lib\\site-packages\\datasets\\load.py:1461: FutureWarning: The repository for mwritescode/slither-audited-smart-contracts contains custom code which must be executed to correctly load the dataset. You can inspect the repository content at https://hf.co/datasets/mwritescode/slither-audited-smart-contracts\n",
      "You can avoid this message in future by passing the argument `trust_remote_code=True`.\n",
      "Passing `trust_remote_code=True` will be mandatory to load this dataset from the next major release of `datasets`.\n",
      "  warnings.warn(\n"
     ]
    }
   ],
   "source": [
    "\n",
    "data = datasets.load_dataset('mwritescode/slither-audited-smart-contracts', 'all-multilabel')\n",
    "\n",
    "# Acesse os exemplos de treinamento\n",
    "train_examples = data['train']\n"
   ]
  },
  {
   "cell_type": "code",
   "execution_count": 7,
   "metadata": {},
   "outputs": [
    {
     "data": {
      "text/html": [
       "<div>\n",
       "<style scoped>\n",
       "    .dataframe tbody tr th:only-of-type {\n",
       "        vertical-align: middle;\n",
       "    }\n",
       "\n",
       "    .dataframe tbody tr th {\n",
       "        vertical-align: top;\n",
       "    }\n",
       "\n",
       "    .dataframe thead th {\n",
       "        text-align: right;\n",
       "    }\n",
       "</style>\n",
       "<table border=\"1\" class=\"dataframe\">\n",
       "  <thead>\n",
       "    <tr style=\"text-align: right;\">\n",
       "      <th></th>\n",
       "      <th>source_code</th>\n",
       "      <th>slither</th>\n",
       "    </tr>\n",
       "  </thead>\n",
       "  <tbody>\n",
       "    <tr>\n",
       "      <th>0</th>\n",
       "      <td>pragma solidity 0.5.4;\\n\\ninterface IERC20 {\\n...</td>\n",
       "      <td>[4]</td>\n",
       "    </tr>\n",
       "    <tr>\n",
       "      <th>1</th>\n",
       "      <td>pragma solidity 0.6.10;\\npragma experimental A...</td>\n",
       "      <td>[6, 4, 9, 7]</td>\n",
       "    </tr>\n",
       "    <tr>\n",
       "      <th>2</th>\n",
       "      <td>pragma solidity 0.6.5;\\npragma experimental AB...</td>\n",
       "      <td>[38]</td>\n",
       "    </tr>\n",
       "    <tr>\n",
       "      <th>3</th>\n",
       "      <td>pragma solidity 0.6.6;\\n\\nlibrary Address {\\n\\...</td>\n",
       "      <td>[38]</td>\n",
       "    </tr>\n",
       "    <tr>\n",
       "      <th>4</th>\n",
       "      <td>pragma solidity 0.6.8;\\npragma experimental AB...</td>\n",
       "      <td>[0, 4, 7, 9, 16, 5, 2]</td>\n",
       "    </tr>\n",
       "    <tr>\n",
       "      <th>...</th>\n",
       "      <td>...</td>\n",
       "      <td>...</td>\n",
       "    </tr>\n",
       "    <tr>\n",
       "      <th>120603</th>\n",
       "      <td>/**\\n *Submitted for verification at Etherscan...</td>\n",
       "      <td>[38]</td>\n",
       "    </tr>\n",
       "    <tr>\n",
       "      <th>120604</th>\n",
       "      <td>contract ERC20Basic {\\n  uint256 public totalS...</td>\n",
       "      <td>[38]</td>\n",
       "    </tr>\n",
       "    <tr>\n",
       "      <th>120605</th>\n",
       "      <td>contract Bodies2 {\\n\\nstring public constant b...</td>\n",
       "      <td>[38]</td>\n",
       "    </tr>\n",
       "    <tr>\n",
       "      <th>120606</th>\n",
       "      <td>contract LifeSet_005 {\\n    \\n// part.I_fixe.....</td>\n",
       "      <td>[38]</td>\n",
       "    </tr>\n",
       "    <tr>\n",
       "      <th>120607</th>\n",
       "      <td>contract Token {\\n\\n    /// @return total amou...</td>\n",
       "      <td>[4]</td>\n",
       "    </tr>\n",
       "  </tbody>\n",
       "</table>\n",
       "<p>120608 rows × 2 columns</p>\n",
       "</div>"
      ],
      "text/plain": [
       "                                              source_code  \\\n",
       "0       pragma solidity 0.5.4;\\n\\ninterface IERC20 {\\n...   \n",
       "1       pragma solidity 0.6.10;\\npragma experimental A...   \n",
       "2       pragma solidity 0.6.5;\\npragma experimental AB...   \n",
       "3       pragma solidity 0.6.6;\\n\\nlibrary Address {\\n\\...   \n",
       "4       pragma solidity 0.6.8;\\npragma experimental AB...   \n",
       "...                                                   ...   \n",
       "120603  /**\\n *Submitted for verification at Etherscan...   \n",
       "120604  contract ERC20Basic {\\n  uint256 public totalS...   \n",
       "120605  contract Bodies2 {\\n\\nstring public constant b...   \n",
       "120606  contract LifeSet_005 {\\n    \\n// part.I_fixe.....   \n",
       "120607  contract Token {\\n\\n    /// @return total amou...   \n",
       "\n",
       "                       slither  \n",
       "0                          [4]  \n",
       "1                 [6, 4, 9, 7]  \n",
       "2                         [38]  \n",
       "3                         [38]  \n",
       "4       [0, 4, 7, 9, 16, 5, 2]  \n",
       "...                        ...  \n",
       "120603                    [38]  \n",
       "120604                    [38]  \n",
       "120605                    [38]  \n",
       "120606                    [38]  \n",
       "120607                     [4]  \n",
       "\n",
       "[120608 rows x 2 columns]"
      ]
     },
     "execution_count": 7,
     "metadata": {},
     "output_type": "execute_result"
    }
   ],
   "source": [
    "df = pd.DataFrame(train_examples)\n",
    "#retirando as colunas que não serão necessárias\n",
    "df = df.drop(columns=['address', 'bytecode'], axis= 1)\n",
    "\n",
    "# Exibe as primeiras linhas do DataFrame\n",
    "df"
   ]
  },
  {
   "cell_type": "markdown",
   "metadata": {},
   "source": [
    "Aqui o df está sendo salvo em um arquivo parquet. Este formato em específico foi escolhido tanto pela eficiência em leitura quanto pelo tamanho final do arquivo."
   ]
  },
  {
   "cell_type": "code",
   "execution_count": 8,
   "metadata": {},
   "outputs": [],
   "source": [
    "df.to_parquet('slither_audited_contracts.parquet', index=False)"
   ]
  },
  {
   "cell_type": "markdown",
   "metadata": {},
   "source": [
    "Verificando se o arquivo foi salvo corretamente"
   ]
  },
  {
   "cell_type": "code",
   "execution_count": 9,
   "metadata": {},
   "outputs": [
    {
     "data": {
      "text/html": [
       "<div>\n",
       "<style scoped>\n",
       "    .dataframe tbody tr th:only-of-type {\n",
       "        vertical-align: middle;\n",
       "    }\n",
       "\n",
       "    .dataframe tbody tr th {\n",
       "        vertical-align: top;\n",
       "    }\n",
       "\n",
       "    .dataframe thead th {\n",
       "        text-align: right;\n",
       "    }\n",
       "</style>\n",
       "<table border=\"1\" class=\"dataframe\">\n",
       "  <thead>\n",
       "    <tr style=\"text-align: right;\">\n",
       "      <th></th>\n",
       "      <th>source_code</th>\n",
       "      <th>slither</th>\n",
       "    </tr>\n",
       "  </thead>\n",
       "  <tbody>\n",
       "    <tr>\n",
       "      <th>0</th>\n",
       "      <td>pragma solidity 0.5.4;\\n\\ninterface IERC20 {\\n...</td>\n",
       "      <td>[4]</td>\n",
       "    </tr>\n",
       "    <tr>\n",
       "      <th>1</th>\n",
       "      <td>pragma solidity 0.6.10;\\npragma experimental A...</td>\n",
       "      <td>[6, 4, 9, 7]</td>\n",
       "    </tr>\n",
       "    <tr>\n",
       "      <th>2</th>\n",
       "      <td>pragma solidity 0.6.5;\\npragma experimental AB...</td>\n",
       "      <td>[38]</td>\n",
       "    </tr>\n",
       "    <tr>\n",
       "      <th>3</th>\n",
       "      <td>pragma solidity 0.6.6;\\n\\nlibrary Address {\\n\\...</td>\n",
       "      <td>[38]</td>\n",
       "    </tr>\n",
       "    <tr>\n",
       "      <th>4</th>\n",
       "      <td>pragma solidity 0.6.8;\\npragma experimental AB...</td>\n",
       "      <td>[0, 4, 7, 9, 16, 5, 2]</td>\n",
       "    </tr>\n",
       "    <tr>\n",
       "      <th>...</th>\n",
       "      <td>...</td>\n",
       "      <td>...</td>\n",
       "    </tr>\n",
       "    <tr>\n",
       "      <th>120603</th>\n",
       "      <td>/**\\n *Submitted for verification at Etherscan...</td>\n",
       "      <td>[38]</td>\n",
       "    </tr>\n",
       "    <tr>\n",
       "      <th>120604</th>\n",
       "      <td>contract ERC20Basic {\\n  uint256 public totalS...</td>\n",
       "      <td>[38]</td>\n",
       "    </tr>\n",
       "    <tr>\n",
       "      <th>120605</th>\n",
       "      <td>contract Bodies2 {\\n\\nstring public constant b...</td>\n",
       "      <td>[38]</td>\n",
       "    </tr>\n",
       "    <tr>\n",
       "      <th>120606</th>\n",
       "      <td>contract LifeSet_005 {\\n    \\n// part.I_fixe.....</td>\n",
       "      <td>[38]</td>\n",
       "    </tr>\n",
       "    <tr>\n",
       "      <th>120607</th>\n",
       "      <td>contract Token {\\n\\n    /// @return total amou...</td>\n",
       "      <td>[4]</td>\n",
       "    </tr>\n",
       "  </tbody>\n",
       "</table>\n",
       "<p>120608 rows × 2 columns</p>\n",
       "</div>"
      ],
      "text/plain": [
       "                                              source_code  \\\n",
       "0       pragma solidity 0.5.4;\\n\\ninterface IERC20 {\\n...   \n",
       "1       pragma solidity 0.6.10;\\npragma experimental A...   \n",
       "2       pragma solidity 0.6.5;\\npragma experimental AB...   \n",
       "3       pragma solidity 0.6.6;\\n\\nlibrary Address {\\n\\...   \n",
       "4       pragma solidity 0.6.8;\\npragma experimental AB...   \n",
       "...                                                   ...   \n",
       "120603  /**\\n *Submitted for verification at Etherscan...   \n",
       "120604  contract ERC20Basic {\\n  uint256 public totalS...   \n",
       "120605  contract Bodies2 {\\n\\nstring public constant b...   \n",
       "120606  contract LifeSet_005 {\\n    \\n// part.I_fixe.....   \n",
       "120607  contract Token {\\n\\n    /// @return total amou...   \n",
       "\n",
       "                       slither  \n",
       "0                          [4]  \n",
       "1                 [6, 4, 9, 7]  \n",
       "2                         [38]  \n",
       "3                         [38]  \n",
       "4       [0, 4, 7, 9, 16, 5, 2]  \n",
       "...                        ...  \n",
       "120603                    [38]  \n",
       "120604                    [38]  \n",
       "120605                    [38]  \n",
       "120606                    [38]  \n",
       "120607                     [4]  \n",
       "\n",
       "[120608 rows x 2 columns]"
      ]
     },
     "execution_count": 9,
     "metadata": {},
     "output_type": "execute_result"
    }
   ],
   "source": [
    "df = pd.read_parquet('slither_audited_contracts3.parquet')\n",
    "df"
   ]
  },
  {
   "cell_type": "code",
   "execution_count": 10,
   "metadata": {},
   "outputs": [],
   "source": [
    "df2 = df.copy()"
   ]
  },
  {
   "cell_type": "markdown",
   "metadata": {},
   "source": [
    "O dataset inteiro contém cerca de 120.000 contratos inteligentes com e sem vulnerabilidades. Devido à limitações computacionais, optou-se pela diminuição do tamanho do dataset para treinamento da LLM."
   ]
  },
  {
   "cell_type": "code",
   "execution_count": 11,
   "metadata": {},
   "outputs": [
    {
     "name": "stdout",
     "output_type": "stream",
     "text": [
      "Total de contratos: 120608\n",
      "Contratos sem vulnerabilidades: 35130\n",
      "Proporção em relação ao total: 29.13%\n"
     ]
    }
   ],
   "source": [
    "count_38 = df['slither'].apply(lambda x: 38 in x).sum()\n",
    "\n",
    "print(\"Total de contratos:\", len(df))\n",
    "\n",
    "print(\"Contratos sem vulnerabilidades:\", count_38)\n",
    "\n",
    "print(\"Proporção em relação ao total: {:.2f}%\".format((count_38 / len(df))*100))"
   ]
  },
  {
   "cell_type": "markdown",
   "metadata": {},
   "source": [
    "A função abaixo cria um novo dataframe, que analisa a quantidade de vezes que cada vulnerabilidade aparece no dataset como um todo."
   ]
  },
  {
   "cell_type": "code",
   "execution_count": 12,
   "metadata": {},
   "outputs": [],
   "source": [
    "def vulnerabilidades(df):\n",
    "    all_words = ['uninitialized-state','constant-function-asm', 'locked-ether','incorrect-shift', 'divide-before-multiply', 'unused-return','write-after-write', 'reentrancy-no-eth', 'unchecked-lowlevel','incorrect-equality', 'weak-prng', 'arbitrary-send','uninitialized-local', 'reentrancy-eth', 'shadowing-abstract','controlled-delegatecall', 'unchecked-transfer', 'erc20-interface','controlled-array-length', 'tautology', 'shadowing-state','tx-origin', 'unprotected-upgrade', 'suicidal','boolean-cst', 'unchecked-send', 'msg-value-loop',\"erc721-interface\", 'constant-function-state', 'delegatecall-loop','mapping-deletion', 'reused-constructor', 'uninitialized-storage','public-mappings-nested', 'array-by-reference','backdoor','rtlo', 'name-reused','safe']\n",
    "\n",
    "    num_to_vulnerability = {i: word for i, word in enumerate(all_words)}\n",
    "    all_numbers = [num for sublist in df['slither'] for num in sublist]\n",
    "    counts = np.unique(all_numbers, return_counts=True)\n",
    "\n",
    "    result_df = pd.DataFrame({'Número': counts[0], 'Contagem': counts[1]})\n",
    "    result_df = result_df.sort_values(by='Contagem', ascending=False)\n",
    "    result_df['Nome da Vulnerabilidade'] = result_df['Número'].map(num_to_vulnerability)\n",
    "\n",
    "    return result_df"
   ]
  },
  {
   "cell_type": "markdown",
   "metadata": {},
   "source": [
    "Como é possível ver abaixo, com exceção dos contratos sem vulnerabilidades descritos como \"safe\", algumas das vulnerabilidades mais comund encontradas são: \"unused-return\", \"reentrancy\" e \"divide-before-multiply\""
   ]
  },
  {
   "cell_type": "code",
   "execution_count": 13,
   "metadata": {},
   "outputs": [
    {
     "data": {
      "text/html": [
       "<div>\n",
       "<style scoped>\n",
       "    .dataframe tbody tr th:only-of-type {\n",
       "        vertical-align: middle;\n",
       "    }\n",
       "\n",
       "    .dataframe tbody tr th {\n",
       "        vertical-align: top;\n",
       "    }\n",
       "\n",
       "    .dataframe thead th {\n",
       "        text-align: right;\n",
       "    }\n",
       "</style>\n",
       "<table border=\"1\" class=\"dataframe\">\n",
       "  <thead>\n",
       "    <tr style=\"text-align: right;\">\n",
       "      <th></th>\n",
       "      <th>Número</th>\n",
       "      <th>Contagem</th>\n",
       "      <th>Nome da Vulnerabilidade</th>\n",
       "    </tr>\n",
       "  </thead>\n",
       "  <tbody>\n",
       "    <tr>\n",
       "      <th>5</th>\n",
       "      <td>5</td>\n",
       "      <td>42573</td>\n",
       "      <td>unused-return</td>\n",
       "    </tr>\n",
       "    <tr>\n",
       "      <th>38</th>\n",
       "      <td>38</td>\n",
       "      <td>35130</td>\n",
       "      <td>safe</td>\n",
       "    </tr>\n",
       "    <tr>\n",
       "      <th>7</th>\n",
       "      <td>7</td>\n",
       "      <td>21319</td>\n",
       "      <td>reentrancy-no-eth</td>\n",
       "    </tr>\n",
       "    <tr>\n",
       "      <th>4</th>\n",
       "      <td>4</td>\n",
       "      <td>20044</td>\n",
       "      <td>divide-before-multiply</td>\n",
       "    </tr>\n",
       "    <tr>\n",
       "      <th>13</th>\n",
       "      <td>13</td>\n",
       "      <td>17779</td>\n",
       "      <td>reentrancy-eth</td>\n",
       "    </tr>\n",
       "    <tr>\n",
       "      <th>12</th>\n",
       "      <td>12</td>\n",
       "      <td>17694</td>\n",
       "      <td>uninitialized-local</td>\n",
       "    </tr>\n",
       "    <tr>\n",
       "      <th>9</th>\n",
       "      <td>9</td>\n",
       "      <td>14507</td>\n",
       "      <td>incorrect-equality</td>\n",
       "    </tr>\n",
       "    <tr>\n",
       "      <th>16</th>\n",
       "      <td>16</td>\n",
       "      <td>14503</td>\n",
       "      <td>unchecked-transfer</td>\n",
       "    </tr>\n",
       "    <tr>\n",
       "      <th>11</th>\n",
       "      <td>11</td>\n",
       "      <td>10477</td>\n",
       "      <td>arbitrary-send</td>\n",
       "    </tr>\n",
       "    <tr>\n",
       "      <th>2</th>\n",
       "      <td>2</td>\n",
       "      <td>7517</td>\n",
       "      <td>locked-ether</td>\n",
       "    </tr>\n",
       "    <tr>\n",
       "      <th>17</th>\n",
       "      <td>17</td>\n",
       "      <td>4742</td>\n",
       "      <td>erc20-interface</td>\n",
       "    </tr>\n",
       "    <tr>\n",
       "      <th>0</th>\n",
       "      <td>0</td>\n",
       "      <td>4499</td>\n",
       "      <td>uninitialized-state</td>\n",
       "    </tr>\n",
       "    <tr>\n",
       "      <th>19</th>\n",
       "      <td>19</td>\n",
       "      <td>4125</td>\n",
       "      <td>tautology</td>\n",
       "    </tr>\n",
       "    <tr>\n",
       "      <th>21</th>\n",
       "      <td>21</td>\n",
       "      <td>3043</td>\n",
       "      <td>tx-origin</td>\n",
       "    </tr>\n",
       "    <tr>\n",
       "      <th>10</th>\n",
       "      <td>10</td>\n",
       "      <td>3024</td>\n",
       "      <td>weak-prng</td>\n",
       "    </tr>\n",
       "    <tr>\n",
       "      <th>18</th>\n",
       "      <td>18</td>\n",
       "      <td>2875</td>\n",
       "      <td>controlled-array-length</td>\n",
       "    </tr>\n",
       "    <tr>\n",
       "      <th>1</th>\n",
       "      <td>1</td>\n",
       "      <td>2536</td>\n",
       "      <td>constant-function-asm</td>\n",
       "    </tr>\n",
       "    <tr>\n",
       "      <th>20</th>\n",
       "      <td>20</td>\n",
       "      <td>2450</td>\n",
       "      <td>shadowing-state</td>\n",
       "    </tr>\n",
       "    <tr>\n",
       "      <th>15</th>\n",
       "      <td>15</td>\n",
       "      <td>2010</td>\n",
       "      <td>controlled-delegatecall</td>\n",
       "    </tr>\n",
       "    <tr>\n",
       "      <th>8</th>\n",
       "      <td>8</td>\n",
       "      <td>1760</td>\n",
       "      <td>unchecked-lowlevel</td>\n",
       "    </tr>\n",
       "    <tr>\n",
       "      <th>6</th>\n",
       "      <td>6</td>\n",
       "      <td>1425</td>\n",
       "      <td>write-after-write</td>\n",
       "    </tr>\n",
       "    <tr>\n",
       "      <th>3</th>\n",
       "      <td>3</td>\n",
       "      <td>1116</td>\n",
       "      <td>incorrect-shift</td>\n",
       "    </tr>\n",
       "    <tr>\n",
       "      <th>14</th>\n",
       "      <td>14</td>\n",
       "      <td>1078</td>\n",
       "      <td>shadowing-abstract</td>\n",
       "    </tr>\n",
       "    <tr>\n",
       "      <th>37</th>\n",
       "      <td>37</td>\n",
       "      <td>381</td>\n",
       "      <td>name-reused</td>\n",
       "    </tr>\n",
       "    <tr>\n",
       "      <th>26</th>\n",
       "      <td>26</td>\n",
       "      <td>343</td>\n",
       "      <td>msg-value-loop</td>\n",
       "    </tr>\n",
       "    <tr>\n",
       "      <th>30</th>\n",
       "      <td>30</td>\n",
       "      <td>310</td>\n",
       "      <td>mapping-deletion</td>\n",
       "    </tr>\n",
       "    <tr>\n",
       "      <th>22</th>\n",
       "      <td>22</td>\n",
       "      <td>288</td>\n",
       "      <td>unprotected-upgrade</td>\n",
       "    </tr>\n",
       "    <tr>\n",
       "      <th>24</th>\n",
       "      <td>24</td>\n",
       "      <td>261</td>\n",
       "      <td>boolean-cst</td>\n",
       "    </tr>\n",
       "    <tr>\n",
       "      <th>25</th>\n",
       "      <td>25</td>\n",
       "      <td>260</td>\n",
       "      <td>unchecked-send</td>\n",
       "    </tr>\n",
       "    <tr>\n",
       "      <th>32</th>\n",
       "      <td>32</td>\n",
       "      <td>232</td>\n",
       "      <td>uninitialized-storage</td>\n",
       "    </tr>\n",
       "    <tr>\n",
       "      <th>29</th>\n",
       "      <td>29</td>\n",
       "      <td>158</td>\n",
       "      <td>delegatecall-loop</td>\n",
       "    </tr>\n",
       "    <tr>\n",
       "      <th>23</th>\n",
       "      <td>23</td>\n",
       "      <td>155</td>\n",
       "      <td>suicidal</td>\n",
       "    </tr>\n",
       "    <tr>\n",
       "      <th>28</th>\n",
       "      <td>28</td>\n",
       "      <td>101</td>\n",
       "      <td>constant-function-state</td>\n",
       "    </tr>\n",
       "    <tr>\n",
       "      <th>27</th>\n",
       "      <td>27</td>\n",
       "      <td>78</td>\n",
       "      <td>erc721-interface</td>\n",
       "    </tr>\n",
       "    <tr>\n",
       "      <th>34</th>\n",
       "      <td>34</td>\n",
       "      <td>74</td>\n",
       "      <td>array-by-reference</td>\n",
       "    </tr>\n",
       "    <tr>\n",
       "      <th>31</th>\n",
       "      <td>31</td>\n",
       "      <td>17</td>\n",
       "      <td>reused-constructor</td>\n",
       "    </tr>\n",
       "    <tr>\n",
       "      <th>33</th>\n",
       "      <td>33</td>\n",
       "      <td>8</td>\n",
       "      <td>public-mappings-nested</td>\n",
       "    </tr>\n",
       "    <tr>\n",
       "      <th>35</th>\n",
       "      <td>35</td>\n",
       "      <td>1</td>\n",
       "      <td>backdoor</td>\n",
       "    </tr>\n",
       "    <tr>\n",
       "      <th>36</th>\n",
       "      <td>36</td>\n",
       "      <td>1</td>\n",
       "      <td>rtlo</td>\n",
       "    </tr>\n",
       "  </tbody>\n",
       "</table>\n",
       "</div>"
      ],
      "text/plain": [
       "    Número  Contagem  Nome da Vulnerabilidade\n",
       "5        5     42573            unused-return\n",
       "38      38     35130                     safe\n",
       "7        7     21319        reentrancy-no-eth\n",
       "4        4     20044   divide-before-multiply\n",
       "13      13     17779           reentrancy-eth\n",
       "12      12     17694      uninitialized-local\n",
       "9        9     14507       incorrect-equality\n",
       "16      16     14503       unchecked-transfer\n",
       "11      11     10477           arbitrary-send\n",
       "2        2      7517             locked-ether\n",
       "17      17      4742          erc20-interface\n",
       "0        0      4499      uninitialized-state\n",
       "19      19      4125                tautology\n",
       "21      21      3043                tx-origin\n",
       "10      10      3024                weak-prng\n",
       "18      18      2875  controlled-array-length\n",
       "1        1      2536    constant-function-asm\n",
       "20      20      2450          shadowing-state\n",
       "15      15      2010  controlled-delegatecall\n",
       "8        8      1760       unchecked-lowlevel\n",
       "6        6      1425        write-after-write\n",
       "3        3      1116          incorrect-shift\n",
       "14      14      1078       shadowing-abstract\n",
       "37      37       381              name-reused\n",
       "26      26       343           msg-value-loop\n",
       "30      30       310         mapping-deletion\n",
       "22      22       288      unprotected-upgrade\n",
       "24      24       261              boolean-cst\n",
       "25      25       260           unchecked-send\n",
       "32      32       232    uninitialized-storage\n",
       "29      29       158        delegatecall-loop\n",
       "23      23       155                 suicidal\n",
       "28      28       101  constant-function-state\n",
       "27      27        78         erc721-interface\n",
       "34      34        74       array-by-reference\n",
       "31      31        17       reused-constructor\n",
       "33      33         8   public-mappings-nested\n",
       "35      35         1                 backdoor\n",
       "36      36         1                     rtlo"
      ]
     },
     "execution_count": 13,
     "metadata": {},
     "output_type": "execute_result"
    }
   ],
   "source": [
    "result_df = vulnerabilidades(df)\n",
    "result_df"
   ]
  },
  {
   "cell_type": "markdown",
   "metadata": {},
   "source": [
    "O gráfico abaixo ilustra a tabela acima"
   ]
  },
  {
   "cell_type": "code",
   "execution_count": 14,
   "metadata": {},
   "outputs": [
    {
     "data": {
      "image/png": "[encoded data removed]",
      "text/plain": [
       "<Figure size 640x480 with 1 Axes>"
      ]
     },
     "metadata": {},
     "output_type": "display_data"
    }
   ],
   "source": [
    "plt.bar(result_df['Número'], result_df['Contagem'])\n",
    "plt.xlabel('Número da Vulnerabilidade')\n",
    "plt.ylabel('Contagem')\n",
    "plt.show()"
   ]
  },
  {
   "cell_type": "markdown",
   "metadata": {},
   "source": [
    "Inicialmente, para fins de teste da LLM, criarei 5 datasets diferentes, cada um exemplificando as 5 maiores vulnerabilidades. Cada dataset conta com 2500 contratos vulneráveis e 2500 sem vulnerabilidades."
   ]
  },
  {
   "cell_type": "code",
   "execution_count": 15,
   "metadata": {},
   "outputs": [
    {
     "name": "stdout",
     "output_type": "stream",
     "text": [
      "[5, 38, 7, 4, 13, 12]\n"
     ]
    }
   ],
   "source": [
    "numeros = result_df['Número'].head(6).tolist()\n",
    "print(numeros)"
   ]
  },
  {
   "cell_type": "code",
   "execution_count": 16,
   "metadata": {},
   "outputs": [],
   "source": [
    "df = df2.copy()"
   ]
  },
  {
   "cell_type": "markdown",
   "metadata": {},
   "source": [
    "Criando 5 dataframes para cada vulnerabilidade e também com contratos seguros."
   ]
  },
  {
   "cell_type": "code",
   "execution_count": 17,
   "metadata": {},
   "outputs": [],
   "source": [
    "def criar_dataframes(numeros):\n",
    "    dataframes = {}\n",
    "    for numero in numeros:\n",
    "        df_name = f'contratos_{numero}'  # Nome do DataFrame\n",
    "        dataframes[df_name] = df[df['slither'].apply(lambda x: numero in x)]  # Criação do DataFrame\n",
    "    \n",
    "    return dataframes\n",
    "\n",
    "dataframes = criar_dataframes(numeros)"
   ]
  },
  {
   "cell_type": "markdown",
   "metadata": {},
   "source": [
    "São selecionadas 12500 linhas para o DataFrame com nome 'contratos_38' (seguros) e 2500 linhas para os outros DataFrames. Para facilitar o processo de treinamento, são escolhidas os menores contratos com base na quantidade de caracteres presentes."
   ]
  },
  {
   "cell_type": "code",
   "execution_count": 24,
   "metadata": {},
   "outputs": [],
   "source": [
    "for df_name, df in dataframes.items():\n",
    "    # Calcula o tamanho das strings na coluna 'source_code' e adiciona como uma nova coluna\n",
    "    df['source_code_length'] = df['source_code'].str.len()\n",
    "    \n",
    "    #seleciona os menores contratos\n",
    "    if df_name == 'contratos_38':\n",
    "        df_selected = df.nsmallest(12500, 'source_code_length', keep='all')\n",
    "    else:\n",
    "        df_selected = df.nsmallest(2500, 'source_code_length', keep='all')\n",
    "    \n",
    "    # Descarta a coluna 'source_code_length' se não for mais necessária\n",
    "    df_selected.drop('source_code_length', axis=1, inplace=True)\n",
    "    \n",
    "    # Atualiza o DataFrame original com as alterações\n",
    "    dataframes[df_name] = df_selected"
   ]
  },
  {
   "cell_type": "markdown",
   "metadata": {},
   "source": [
    "Confirmando o tamanho e configurações dos datasets"
   ]
  },
  {
   "cell_type": "code",
   "execution_count": 19,
   "metadata": {},
   "outputs": [
    {
     "name": "stdout",
     "output_type": "stream",
     "text": [
      "nome: contratos_5 / tam: 2500\n",
      "nome: contratos_38 / tam: 12500\n",
      "nome: contratos_7 / tam: 2500\n",
      "nome: contratos_4 / tam: 2500\n",
      "nome: contratos_13 / tam: 2501\n",
      "nome: contratos_12 / tam: 2500\n"
     ]
    }
   ],
   "source": [
    "for df_name in dataframes:\n",
    "    print('nome:', df_name, '/ tam:', len(dataframes[df_name]))"
   ]
  },
  {
   "cell_type": "markdown",
   "metadata": {},
   "source": [
    "Aqui, o dataset que contém os 12500 contratos seguros é dividido em 5 partes iguais"
   ]
  },
  {
   "cell_type": "code",
   "execution_count": 20,
   "metadata": {},
   "outputs": [
    {
     "name": "stderr",
     "output_type": "stream",
     "text": [
      "c:\\Python\\Lib\\site-packages\\numpy\\core\\fromnumeric.py:59: FutureWarning: 'DataFrame.swapaxes' is deprecated and will be removed in a future version. Please use 'DataFrame.transpose' instead.\n",
      "  return bound(*args, **kwds)\n"
     ]
    }
   ],
   "source": [
    "dataframes['contratos_38'] = dataframes['contratos_38'].sample(frac=1).reset_index(drop=True)\n",
    "partes = np.array_split(dataframes['contratos_38'], 5)"
   ]
  },
  {
   "cell_type": "markdown",
   "metadata": {},
   "source": [
    "Convertendo as vulnerabilidades de números para palavras"
   ]
  },
  {
   "cell_type": "code",
   "execution_count": 21,
   "metadata": {},
   "outputs": [],
   "source": [
    "vulnerabilities = [\n",
    "    'uninitialized-state', 'constant-function-asm', 'locked-ether',\n",
    "    'incorrect-shift', 'divide-before-multiply', 'unused-return',\n",
    "    'write-after-write', 'reentrancy-no-eth', 'unchecked-lowlevel',\n",
    "    'incorrect-equality', 'weak-prng', 'arbitrary-send',\n",
    "    'uninitialized-local', 'reentrancy-eth', 'shadowing-abstract',\n",
    "    'controlled-delegatecall', 'unchecked-transfer', 'erc20-interface',\n",
    "    'controlled-array-length', 'tautology', 'shadowing-state',\n",
    "    'tx-origin', 'unprotected-upgrade', 'suicidal',\n",
    "    'boolean-cst', 'unchecked-send', 'msg-value-loop',\n",
    "    'erc721-interface', 'constant-function-state', 'delegatecall-loop',\n",
    "    'mapping-deletion', 'reused-constructor', 'uninitialized-storage',\n",
    "    'public-mappings-nested', 'array-by-reference', 'backdoor',\n",
    "    'rtlo', 'name-reused', 'safe'\n",
    "]\n",
    "\n",
    "# Criando o dicionário de mapeamento\n",
    "def map_vulnerabilities(array):\n",
    "    return [vulnerabilities[i] for i in array]"
   ]
  },
  {
   "cell_type": "markdown",
   "metadata": {},
   "source": [
    "Concatenando os datasets vulneráveis com as partes do dataset seguro"
   ]
  },
  {
   "cell_type": "code",
   "execution_count": 25,
   "metadata": {},
   "outputs": [],
   "source": [
    "for df_name, df in dataframes.items():\n",
    "    c = 0\n",
    "    if df_name != 'contratos_38':\n",
    "       x = pd.concat([df, partes[c]], ignore_index=True)\n",
    "       dataframes[df_name] = x\n",
    "       dataframes[df_name].sample(frac=1).reset_index(drop=True)\n",
    "       dataframes[df_name]['slither'] = dataframes[df_name]['slither'].apply(map_vulnerabilities)\n",
    "       c+=1"
   ]
  },
  {
   "cell_type": "markdown",
   "metadata": {},
   "source": [
    "Confirmando o número de contratos seguros e não seguros em cada df"
   ]
  },
  {
   "cell_type": "code",
   "execution_count": 26,
   "metadata": {},
   "outputs": [
    {
     "name": "stdout",
     "output_type": "stream",
     "text": [
      "Df contratos_5 - Seguros: 2500, Vulneraveis: 2500\n",
      "Df contratos_38 - Seguros: 0, Vulneraveis: 12500\n",
      "Df contratos_7 - Seguros: 2500, Vulneraveis: 2500\n",
      "Df contratos_4 - Seguros: 2500, Vulneraveis: 2500\n",
      "Df contratos_13 - Seguros: 2500, Vulneraveis: 2501\n",
      "Df contratos_12 - Seguros: 2500, Vulneraveis: 2500\n"
     ]
    }
   ],
   "source": [
    "for df_name, df in dataframes.items():\n",
    "    seguro_count = (dataframes[df_name]['slither'].apply(lambda x: 'safe' in x)).sum()\n",
    "    vulneraveis_count = len(df) - seguro_count\n",
    "    print(f\"Df {df_name} - Seguros: {seguro_count}, Vulneraveis: {vulneraveis_count}\")"
   ]
  },
  {
   "cell_type": "markdown",
   "metadata": {},
   "source": [
    "Convertendo e salvando em arquivos .parquet"
   ]
  },
  {
   "cell_type": "code",
   "execution_count": 23,
   "metadata": {},
   "outputs": [],
   "source": [
    "for df_name, df in dataframes.items():\n",
    "    # Construa o nome do arquivo .parquet\n",
    "    nome_arquivo = df_name + \".parquet\"\n",
    "    # Converta e salve o DataFrame como um arquivo .parquet\n",
    "    df.to_parquet(nome_arquivo)"
   ]
  },
  {
   "cell_type": "markdown",
   "metadata": {},
   "source": [
    "O próximo passo é realizar o treino e ajuste no modelo de LLM. Essas duas etapas podem necessitar de mais ajustes no dataset que serão devidamente documentadas e acrescentadas ao repositório."
   ]
  }
 ],
 "metadata": {
  "kernelspec": {
   "display_name": "Python 3",
   "language": "python",
   "name": "python3"
  },
  "language_info": {
   "codemirror_mode": {
    "name": "ipython",
    "version": 3
   },
   "file_extension": ".py",
   "mimetype": "text/x-python",
   "name": "python",
   "nbconvert_exporter": "python",
   "pygments_lexer": "ipython3",
   "version": "3.12.0"
  }
 },
 "nbformat": 4,
 "nbformat_minor": 2
}
